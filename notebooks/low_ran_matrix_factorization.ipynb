{
 "cells": [
  {
   "cell_type": "code",
   "execution_count": 58,
   "metadata": {},
   "outputs": [
    {
     "name": "stdout",
     "output_type": "stream",
     "text": [
      "3.5496908976666295\n",
      "(array([[ 1.24204969,  0.96135851,  1.10710964,  2.41394578],\n",
      "       [ 1.12840367,  0.05876261,  1.21410547,  1.68751955],\n",
      "       [-0.15308083,  1.3135047 , -0.33996154,  0.37211262]]), array([[-1.268399  , -2.16988198, -0.91572637, -1.51955291],\n",
      "       [ 0.9911696 ,  1.57861042,  0.78144179,  1.15781479],\n",
      "       [ 1.32614948,  0.81886517,  0.98172185,  0.84078782]]))\n",
      "(array([[ 1.24204969,  0.96135851,  1.10710964,  2.41394578],\n",
      "       [ 1.12840367,  0.05876261,  1.21410547,  1.68751955],\n",
      "       [-0.15308083,  1.3135047 , -0.33996154,  0.37211262]]), array([[-1.268399  , -2.16988198, -0.91572637, -1.51955291],\n",
      "       [ 0.9911696 ,  1.57861042,  0.78144179,  1.15781479],\n",
      "       [ 1.32614948,  0.81886517,  0.98172185,  0.84078782]]))\n"
     ]
    }
   ],
   "source": [
    "import numpy as np\n",
    "\n",
    "\n",
    "def loss(U, M, R, reg=0.0):\n",
    "    diff = np.dot(U, M.T) - R\n",
    "    loss = 0.5 * np.sum(diff * diff)\n",
    "    loss += reg * np.sum(U) / 2\n",
    "    loss += reg * np.sum(M) / 2\n",
    "    return loss\n",
    "\n",
    "\n",
    "def compute_grad(U, M, R):\n",
    "    u_grad = np.zeros(U.shape)\n",
    "    m_grad = np.zeros(M.shape)\n",
    "    \n",
    "    num_user, lat_dim = U.shape\n",
    "    num_movie, lat_dim = M.shape\n",
    "    \n",
    "    diff = np.dot(U, M.T) - R\n",
    "    for i in range(num_user):\n",
    "        u_grad[i] = np.sum(diff[i].reshape(num_movie, 1) * M, axis=0)\n",
    "\n",
    "    for j in range(num_movie):\n",
    "        m_grad[j] = np.sum(diff.T[j].reshape(num_user, 1) * U, axis=0)\n",
    "        \n",
    "    return u_grad, m_grad\n",
    "\n",
    "\n",
    "def compute_num_grad(U, M, R, loss_func, h=1e-5):\n",
    "    num_grad_u = np.zeros(U.shape)\n",
    "    num_grad_m = np.zeros(M.shape)\n",
    "    \n",
    "    U_dim, L_dim = U.shape\n",
    "    M_dim, L_dim = M.shape\n",
    "    \n",
    "    for i in range(U_dim):\n",
    "        for k in range(L_dim):\n",
    "            old_val = U[i][k]\n",
    "            \n",
    "            U[i][k] = old_val + h\n",
    "            fuph = loss_func(U, M, R)\n",
    "            \n",
    "            U[i][k] = old_val - h\n",
    "            fumh = loss_func(U, M, R)\n",
    "            \n",
    "            U[i][k] = old_val\n",
    "            num_grad_u[i][k] = (fuph - fumh) / (2 * h)\n",
    "    \n",
    "    for j in range(M_dim):\n",
    "        for k in range(L_dim):\n",
    "            old_val = M[j][k]\n",
    "            \n",
    "            M[j][k] = old_val + h\n",
    "            fmph = loss_func(U, M, R)\n",
    "            \n",
    "            M[j][k] = old_val - h\n",
    "            fmmh = loss_func(U, M, R)\n",
    "            \n",
    "            M[j][k] = old_val\n",
    "            num_grad_m[j][k] = (fmph - fmmh) / (2 * h)\n",
    "    \n",
    "    return num_grad_u, num_grad_m\n",
    "            \n",
    "\n",
    "num_user = 3\n",
    "num_movie = 3\n",
    "lat_dim = 4\n",
    "reg = 0\n",
    "\n",
    "R = np.random.rand(num_user, num_movie)\n",
    "U = np.random.rand(num_user, lat_dim)\n",
    "M = np.random.randn(num_movie, lat_dim)\n",
    "\n",
    "np.dot(U, M.T)\n",
    "\n",
    "print loss(U, M, R)\n",
    "print compute_grad(U, M, R)\n",
    "print compute_num_grad(U, M, R, loss)\n",
    "            \n",
    "        "
   ]
  },
  {
   "cell_type": "code",
   "execution_count": 47,
   "metadata": {},
   "outputs": [
    {
     "name": "stdout",
     "output_type": "stream",
     "text": [
      "[[ 0.66028601 -6.06697783]\n",
      " [ 1.45826095 -0.48272723]\n",
      " [ 0.76705498  1.47248015]]\n",
      "[[ 2.16512191 -0.14728376]\n",
      " [-2.44554935  0.48069103]\n",
      " [-0.35991685 -2.06944839]\n",
      " [ 3.34090557  1.02299273]\n",
      " [ 1.25544474 -1.62462961]\n",
      " [-2.17379815  1.23300123]]\n"
     ]
    }
   ],
   "source": [
    "num_user = 3\n",
    "num_movie = 6\n",
    "lat_dim = 2\n",
    "U = np.random.randn(num_user, lat_dim)\n",
    "M = np.random.randn(num_movie, lat_dim)\n",
    "diff = np.random.randn(num_user, num_movie)\n",
    "\n",
    "grad_u = np.zeros(U.shape)\n",
    "grad_m = np.zeros(M.shape)\n",
    "for i in range(num_user):\n",
    "    grad_u[i] = np.sum(diff[i].reshape(diff.shape[1], 1) * M, axis=0) # vector dimension is now (lat_dim,) \n",
    "\n",
    "for j in range(num_movie):\n",
    "    grad_m[j] = np.sum(diff.T[j].reshape(diff.shape[0], 1) * U, axis=0)\n",
    "    \n",
    "print grad_u\n",
    "print grad_m\n"
   ]
  },
  {
   "cell_type": "code",
   "execution_count": null,
   "metadata": {},
   "outputs": [],
   "source": []
  }
 ],
 "metadata": {
  "kernelspec": {
   "display_name": "Python 2",
   "language": "python",
   "name": "python2"
  },
  "language_info": {
   "codemirror_mode": {
    "name": "ipython",
    "version": 2
   },
   "file_extension": ".py",
   "mimetype": "text/x-python",
   "name": "python",
   "nbconvert_exporter": "python",
   "pygments_lexer": "ipython2",
   "version": "2.7.6"
  }
 },
 "nbformat": 4,
 "nbformat_minor": 2
}
